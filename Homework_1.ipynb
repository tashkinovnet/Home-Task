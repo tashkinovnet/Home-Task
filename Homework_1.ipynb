{
  "nbformat": 4,
  "nbformat_minor": 0,
  "metadata": {
    "colab": {
      "provenance": [],
      "authorship_tag": "ABX9TyPx+WZgub1u1tp8bkQr01QF",
      "include_colab_link": true
    },
    "kernelspec": {
      "name": "python3",
      "display_name": "Python 3"
    },
    "language_info": {
      "name": "python"
    }
  },
  "cells": [
    {
      "cell_type": "markdown",
      "metadata": {
        "id": "view-in-github",
        "colab_type": "text"
      },
      "source": [
        "<a href=\"https://colab.research.google.com/github/tashkinovnet/Home-Task/blob/hometask_1/Homework_1.ipynb\" target=\"_parent\"><img src=\"https://colab.research.google.com/assets/colab-badge.svg\" alt=\"Open In Colab\"/></a>"
      ]
    },
    {
      "cell_type": "markdown",
      "source": [
        "#Hometask №1\n",
        "\n",
        "\n"
      ],
      "metadata": {
        "id": "BSIkcPWx7_qw"
      }
    },
    {
      "cell_type": "markdown",
      "source": [
        "##№1"
      ],
      "metadata": {
        "id": "nA-Oyk6r7vrY"
      }
    },
    {
      "cell_type": "markdown",
      "source": [
        "###Challenge: https://edabit.com/challenge/hTfzPzgNvf4bGphH8 (4 points)"
      ],
      "metadata": {
        "id": "6EqC9ByKu3Qs"
      }
    },
    {
      "cell_type": "code",
      "source": [
        "import unittest\n",
        "def convert_time(time_str):\n",
        "    period = time_str[-2:]  # AM или PM\n",
        "    hour = int(time_str[:2])\n",
        "    if period == \"AM\":\n",
        "        if hour == 12:\n",
        "            hour = 0\n",
        "    else:  # PM\n",
        "        if hour != 12:\n",
        "            hour += 12\n",
        "    return f\"{hour:02}:{time_str[3:8]}\"\n",
        "class Test(unittest.TestCase):\n",
        "  def assert_test(a,b):\n",
        "    if a == b:\n",
        "      print(\"Успешно\")\n",
        "    else:\n",
        "      print(\"Ошибка\")\n",
        "  assert_test(convert_time(\"07:05:45PM\"), \"19:05:45\")\n",
        "  assert_test(convert_time(\"12:40:22AM\"), \"00:40:22\")\n",
        "  assert_test(convert_time(\"12:45:54PM\"), \"12:45:54\")"
      ],
      "metadata": {
        "colab": {
          "base_uri": "https://localhost:8080/"
        },
        "id": "_0RydZP5rYw3",
        "outputId": "62c90aab-9c62-4a56-f85c-8e1c135de8cc"
      },
      "execution_count": null,
      "outputs": [
        {
          "output_type": "stream",
          "name": "stdout",
          "text": [
            "Успешно\n",
            "Успешно\n",
            "Успешно\n"
          ]
        }
      ]
    },
    {
      "cell_type": "code",
      "source": [],
      "metadata": {
        "id": "qle1PvHtumTg"
      },
      "execution_count": null,
      "outputs": []
    },
    {
      "cell_type": "markdown",
      "source": [
        "##№2"
      ],
      "metadata": {
        "id": "mOCXQ4Gzvaum"
      }
    },
    {
      "cell_type": "markdown",
      "source": [
        "###Challenge: https://edabit.com/challenge/9ZAk3EEoQ9YPGGYhA (4 points)\n",
        "\n"
      ],
      "metadata": {
        "id": "1ahjoQ4mvagt"
      }
    },
    {
      "cell_type": "code",
      "source": [
        "def items_purchase(store_items, wallet):\n",
        "    wallet_amount = int(wallet.replace('$', '').replace(',', ''))\n",
        "    affordable_items = []\n",
        "\n",
        "    for item, price in store_items.items():\n",
        "        item_price = int(price.replace('$', '').replace(',', ''))\n",
        "        if item_price <= wallet_amount:\n",
        "            affordable_items.append(item)\n",
        "\n",
        "    if affordable_items:\n",
        "        return sorted(affordable_items)\n",
        "    else:\n",
        "        return \"Nothing\"\n",
        "\n",
        "\n",
        "class Test:\n",
        "    def assert_test(a, b):\n",
        "        if a == b:\n",
        "            print(\"Успешно\")\n",
        "        else:\n",
        "            print(\"Ошибка\")\n",
        "\n",
        "\n",
        "Test.assert_test(items_purchase({\n",
        "  \"Water\": \"$1\",\n",
        "  \"Bread\": \"$3\",\n",
        "  \"TV\": \"$1,000\",\n",
        "  \"Fertilizer\": \"$20\"\n",
        "}, \"$300\"), [\"Bread\", \"Fertilizer\", \"Water\"])\n",
        "\n",
        "Test.assert_test(items_purchase({\n",
        "  \"Apple\": \"$4\",\n",
        "  \"Honey\": \"$3\",\n",
        "  \"Fan\": \"$14\",\n",
        "  \"Bananas\": \"$4\",\n",
        "  \"Pan\": \"$100\",\n",
        "  \"Spoon\": \"$2\"\n",
        "}, \"$100\"), [\"Apple\", \"Bananas\", \"Fan\", \"Honey\", \"Pan\", \"Spoon\"])\n",
        "\n",
        "Test.assert_test(items_purchase({\n",
        "  \"Phone\": \"$999\",\n",
        "  \"Speakers\": \"$300\",\n",
        "  \"Laptop\": \"$5,000\",\n",
        "  \"PC\": \"$1200\"\n",
        "}, \"$1\"), \"Nothing\")\n"
      ],
      "metadata": {
        "colab": {
          "base_uri": "https://localhost:8080/"
        },
        "id": "a_OA4mX_rrgh",
        "outputId": "3f15a1dc-6060-407b-ad06-c10a81ec340c"
      },
      "execution_count": null,
      "outputs": [
        {
          "output_type": "stream",
          "name": "stdout",
          "text": [
            "Успешно\n",
            "Успешно\n",
            "Успешно\n"
          ]
        }
      ]
    },
    {
      "cell_type": "markdown",
      "source": [
        "##№3"
      ],
      "metadata": {
        "id": "2CPLMMV4xEVO"
      }
    },
    {
      "cell_type": "markdown",
      "source": [
        "###Challenge: https://edabit.com/challenge/u9mxp7LLxogAjAGDN (4 points)"
      ],
      "metadata": {
        "id": "0xKvplGCxWTq"
      }
    },
    {
      "cell_type": "code",
      "source": [
        "def count_factors(n):\n",
        "    count = 0\n",
        "    for i in range(1, n + 1):\n",
        "        if n % i == 0:\n",
        "            count += 1\n",
        "    return count\n",
        "\n",
        "def factor_sort(lst):\n",
        "    factors_list = []\n",
        "    for number in lst:\n",
        "        factors_list.append((number, count_factors(number)))\n",
        "\n",
        "    factors_list.sort(key=lambda x: (x[1], x[0]), reverse=True)\n",
        "\n",
        "    sorted_list = [number for number, _ in factors_list]\n",
        "    return sorted_list\n",
        "\n",
        "# Тесты\n",
        "class Test:\n",
        "    def assert_test(a, b):\n",
        "        if a == b:\n",
        "            print(\"Успешно\")\n",
        "        else:\n",
        "            print(\"Ошибка\")\n",
        "\n",
        "# Примеры тестов\n",
        "Test.assert_test(factor_sort([9, 7, 13, 12]), [12, 9, 13, 7])\n",
        "Test.assert_test(factor_sort([1, 2, 31, 4]), [4, 31, 2, 1])\n",
        "Test.assert_test(factor_sort([5, 7, 9]), [9, 7, 5])\n",
        "Test.assert_test(factor_sort([15, 8, 2, 3]), [15, 8, 3, 2])\n",
        "\n"
      ],
      "metadata": {
        "colab": {
          "base_uri": "https://localhost:8080/"
        },
        "id": "ZtjKQfFyxfpl",
        "outputId": "be970d74-4601-43e6-b1f7-7c5c590e1c31"
      },
      "execution_count": null,
      "outputs": [
        {
          "output_type": "stream",
          "name": "stdout",
          "text": [
            "Успешно\n",
            "Успешно\n",
            "Успешно\n",
            "Успешно\n"
          ]
        }
      ]
    },
    {
      "cell_type": "markdown",
      "source": [
        "##№4"
      ],
      "metadata": {
        "id": "kv3IWWWX1P91"
      }
    },
    {
      "cell_type": "markdown",
      "source": [
        "###Challenge: https://edabit.com/challenge/fNQEi9Y2adsERgn98 (3 point)"
      ],
      "metadata": {
        "id": "83ovzjp41VJE"
      }
    },
    {
      "cell_type": "code",
      "source": [
        "def perimeter(lst):\n",
        "\tx = ((lst[1][0] - lst[0][0])**2 + (lst[1][1] - lst[0][1])**2)**(1/2)\n",
        "\ty = ((lst[2][0] - lst[1][0])**2 + (lst[2][1] - lst[1][1])**2)**(1/2)\n",
        "\tz = ((lst[0][0] - lst[2][0])**2 + (lst[0][1] - lst[2][1])**2)**(1/2)\n",
        "\tp = x + y + z\n",
        "\treturn round(p, 2)\n",
        "# Тесты\n",
        "class Test:\n",
        "    def assert_test(a, b):\n",
        "        if a == b:\n",
        "            print(\"Успешно\")\n",
        "        else:\n",
        "            print(\"Ошибка\")\n",
        "    assert_test(perimeter([[0, 0], [1, 0], [0, 1]]), 3.41)\n",
        "    assert_test(perimeter([[15, 7], [5, 22], [11, 1]]), 47.08)\n",
        "    assert_test(perimeter([[7, 6], [0, 11], [0, -3]]), 34.00)\n",
        "    assert_test(perimeter([[-10, -10], [10, 10], [-10, 10]]), 68.28)\n",
        "    assert_test(perimeter([[3, 4], [4, 3], [4, 5]]), 4.83)\n",
        "    assert_test(perimeter([[-10, -20], [-30, -40], [-50, -60]]), 113.14)\n",
        "    assert_test(perimeter([[382, 894], [389, 312], [500, 993]]), 1426.06)\n"
      ],
      "metadata": {
        "colab": {
          "base_uri": "https://localhost:8080/"
        },
        "id": "LqH9tTVM1gtf",
        "outputId": "b1880ca1-8b44-49af-b7d7-d2905b75890f"
      },
      "execution_count": null,
      "outputs": [
        {
          "output_type": "stream",
          "name": "stdout",
          "text": [
            "Успешно\n",
            "Успешно\n",
            "Успешно\n",
            "Успешно\n",
            "Успешно\n",
            "Успешно\n",
            "Успешно\n"
          ]
        }
      ]
    }
  ]
}