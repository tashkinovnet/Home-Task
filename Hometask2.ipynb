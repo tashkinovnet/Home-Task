{
  "nbformat": 4,
  "nbformat_minor": 0,
  "metadata": {
    "colab": {
      "provenance": [],
      "authorship_tag": "ABX9TyM5CxDvGNG8AvRTMU8sTNo6",
      "include_colab_link": true
    },
    "kernelspec": {
      "name": "python3",
      "display_name": "Python 3"
    },
    "language_info": {
      "name": "python"
    }
  },
  "cells": [
    {
      "cell_type": "markdown",
      "metadata": {
        "id": "view-in-github",
        "colab_type": "text"
      },
      "source": [
        "<a href=\"https://colab.research.google.com/github/tashkinovnet/Home-Task/blob/Hometask_2/Hometask_2.ipynb\" target=\"_parent\"><img src=\"https://colab.research.google.com/assets/colab-badge.svg\" alt=\"Open In Colab\"/></a>"
      ]
    },
    {
      "cell_type": "markdown",
      "source": [
        "#Hometask №2"
      ],
      "metadata": {
        "id": "o9sP1nErrnET"
      }
    },
    {
      "cell_type": "markdown",
      "metadata": {
        "id": "x8L3gumKx7ws"
      },
      "source": [
        "####1. Создайте массив 10х10, заполненный в центре нулями, а по границе единицами."
      ]
    },
    {
      "cell_type": "code",
      "execution_count": null,
      "metadata": {
        "colab": {
          "base_uri": "https://localhost:8080/"
        },
        "id": "FjFgKoZsrbCF",
        "outputId": "ccb47271-dc37-46ef-bae5-c9764b49ac6b"
      },
      "outputs": [
        {
          "output_type": "stream",
          "name": "stdout",
          "text": [
            "[[1. 1. 1. 1. 1. 1. 1. 1. 1. 1.]\n",
            " [1. 0. 0. 0. 0. 0. 0. 0. 0. 1.]\n",
            " [1. 0. 0. 0. 0. 0. 0. 0. 0. 1.]\n",
            " [1. 0. 0. 0. 0. 0. 0. 0. 0. 1.]\n",
            " [1. 0. 0. 0. 0. 0. 0. 0. 0. 1.]\n",
            " [1. 0. 0. 0. 0. 0. 0. 0. 0. 1.]\n",
            " [1. 0. 0. 0. 0. 0. 0. 0. 0. 1.]\n",
            " [1. 0. 0. 0. 0. 0. 0. 0. 0. 1.]\n",
            " [1. 0. 0. 0. 0. 0. 0. 0. 0. 1.]\n",
            " [1. 1. 1. 1. 1. 1. 1. 1. 1. 1.]]\n"
          ]
        }
      ],
      "source": [
        "import numpy as np\n",
        "a = np.ones((10, 10))\n",
        "a[1:-1, 1:-1] = 0\n",
        "print(a)"
      ]
    },
    {
      "cell_type": "markdown",
      "source": [
        "####2. Создайте массив 8х8, заполненный 0 и 1 в шахматном порядке."
      ],
      "metadata": {
        "id": "GhPBi5EXs77e"
      }
    },
    {
      "cell_type": "code",
      "source": [
        "import numpy as np\n",
        "a = np.indices((8, 8)).sum(axis=0) % 2\n",
        "print(a)"
      ],
      "metadata": {
        "colab": {
          "base_uri": "https://localhost:8080/"
        },
        "id": "abRv8mXMs8x3",
        "outputId": "5aa00cd6-b29c-4d77-f807-bb25e777c99e"
      },
      "execution_count": null,
      "outputs": [
        {
          "output_type": "stream",
          "name": "stdout",
          "text": [
            "[[0 1 0 1 0 1 0 1]\n",
            " [1 0 1 0 1 0 1 0]\n",
            " [0 1 0 1 0 1 0 1]\n",
            " [1 0 1 0 1 0 1 0]\n",
            " [0 1 0 1 0 1 0 1]\n",
            " [1 0 1 0 1 0 1 0]\n",
            " [0 1 0 1 0 1 0 1]\n",
            " [1 0 1 0 1 0 1 0]]\n"
          ]
        }
      ]
    },
    {
      "cell_type": "markdown",
      "source": [
        "####3. Создайте матрицу 5x5 со значениями 1,2,3,4 под главной диагональю. Остальные значения - нули"
      ],
      "metadata": {
        "id": "AWaxiP7Ztd0S"
      }
    },
    {
      "cell_type": "code",
      "source": [
        "import numpy as np\n",
        "a = np.where(np.arange(5).reshape(5, 1) - np.arange(5) > 0, np.arange(5).reshape(5, 1) - np.arange(5), 0)\n",
        "print(a)"
      ],
      "metadata": {
        "colab": {
          "base_uri": "https://localhost:8080/"
        },
        "id": "9MCZ7WZwtmV5",
        "outputId": "9cc97a48-d1ed-4d4c-8234-a1850a264872"
      },
      "execution_count": null,
      "outputs": [
        {
          "output_type": "stream",
          "name": "stdout",
          "text": [
            "[[0 0 0 0 0]\n",
            " [1 0 0 0 0]\n",
            " [2 1 0 0 0]\n",
            " [3 2 1 0 0]\n",
            " [4 3 2 1 0]]\n"
          ]
        }
      ]
    },
    {
      "cell_type": "markdown",
      "source": [
        "####4. Создайте случайный массив 5х5 и нормируйте его так, чтобы среднее по каждой строке было в точности ноль."
      ],
      "metadata": {
        "id": "l-bXYwIcwsl4"
      }
    },
    {
      "cell_type": "code",
      "source": [
        "import numpy as np\n",
        "a = np.random.rand(5, 5)\n",
        "mean_values = np.mean(a, axis=1).reshape(-1, 1)\n",
        "a_normalized = a - mean_values\n",
        "print(a_normalized)"
      ],
      "metadata": {
        "colab": {
          "base_uri": "https://localhost:8080/"
        },
        "id": "hmEzEVdrws2h",
        "outputId": "4ceee640-9088-4666-abc4-e6346054f7aa"
      },
      "execution_count": null,
      "outputs": [
        {
          "output_type": "stream",
          "name": "stdout",
          "text": [
            "[[-0.12752108 -0.20157187  0.41997326 -0.14982151  0.05894121]\n",
            " [-0.4533948   0.30563055  0.03803775  0.08463549  0.025091  ]\n",
            " [ 0.30397776  0.15009161 -0.09905738 -0.43051661  0.07550462]\n",
            " [ 0.20944789 -0.01083894 -0.37492735 -0.0089416   0.18526   ]\n",
            " [ 0.02364917  0.21159311  0.17277613 -0.54848852  0.14047011]]\n"
          ]
        }
      ]
    },
    {
      "cell_type": "markdown",
      "source": [
        "####5. Cоздайте двумерный массив 10x3, заполненный случайными числами от 0 до 1. В каждой строке выберите значение, наиболее близкое к 0.5.\n"
      ],
      "metadata": {
        "id": "k55ITJtjxq4m"
      }
    },
    {
      "cell_type": "code",
      "source": [
        "import numpy as np\n",
        "result = (a := np.random.random((3, 10)))[np.arange(3), np.abs(a - 0.5).argmin(axis=1)]\n",
        "print(a)\n",
        "print(result)"
      ],
      "metadata": {
        "colab": {
          "base_uri": "https://localhost:8080/"
        },
        "id": "z8v5VWuexwBM",
        "outputId": "d9dc39a6-0efc-418c-9213-455a13308810"
      },
      "execution_count": null,
      "outputs": [
        {
          "output_type": "stream",
          "name": "stdout",
          "text": [
            "[[0.99937546 0.12670722 0.71910543 0.62282417 0.99761815 0.68475952\n",
            "  0.90747426 0.65338047 0.10428337 0.69430616]\n",
            " [0.07354205 0.07653821 0.38697121 0.12638059 0.39350582 0.63969677\n",
            "  0.78622665 0.03017186 0.8925646  0.59769962]\n",
            " [0.45666886 0.07214645 0.92184297 0.10334788 0.90842319 0.66033885\n",
            "  0.15636644 0.12833492 0.82217921 0.00955165]]\n",
            "[0.62282417 0.59769962 0.45666886]\n"
          ]
        }
      ]
    },
    {
      "cell_type": "markdown",
      "source": [
        "####6. Создайте двумерный массив 6x6, заполненный случайными значениями. Сумму по каждой строке поделите на максимальный элемент из столбца с тем же индексом."
      ],
      "metadata": {
        "id": "LK0p4Clb1PFT"
      }
    },
    {
      "cell_type": "code",
      "source": [
        "import numpy as np\n",
        "a = 1000 * np.random.random((6, 6))\n",
        "s = np.sum(a, axis=1)\n",
        "b = np.max(a, axis=0)\n",
        "result = s / b\n",
        "print(\"Исходный:\\n\", a)\n",
        "print(\"Результат:\\n\", result)\n"
      ],
      "metadata": {
        "colab": {
          "base_uri": "https://localhost:8080/"
        },
        "id": "FB_SmW3p1PP2",
        "outputId": "17d3d22c-1837-431d-a2e1-51574a9feb9d"
      },
      "execution_count": null,
      "outputs": [
        {
          "output_type": "stream",
          "name": "stdout",
          "text": [
            "Исходный:\n",
            " [[404.34671295 528.77179775 199.73738868 400.04501772 903.87642638\n",
            "  656.27973155]\n",
            " [677.27693084 677.85631054 725.92656255  72.37399673 196.84576788\n",
            "  846.51733743]\n",
            " [996.82350175  69.37219805 922.91517399 815.69783666 221.81304555\n",
            "  387.52007979]\n",
            " [376.90753012 922.55814517 151.64519042 559.01045907 245.88269853\n",
            "  761.81806168]\n",
            " [321.32541989 249.28303983 764.55581305   8.50649099 636.2178017\n",
            "  302.47524911]\n",
            " [779.72178843  15.69337042   1.7144445  546.95972102 833.51289106\n",
            "  648.40693854]]\n",
            "Результат:\n",
            " [3.10291347 3.46514409 3.69930188 3.69968136 2.5250839  3.33839489]\n"
          ]
        }
      ]
    },
    {
      "cell_type": "markdown",
      "source": [
        "####7. На примере массива x = np.array([6, 2, 0, 3, 0, 0, 5, 7, 0]) найдите максимальный элемент в массиве среди элементов, перед которыми стоит ноль."
      ],
      "metadata": {
        "id": "dLceajgG2dBA"
      }
    },
    {
      "cell_type": "code",
      "source": [
        "import numpy as np\n",
        "x = np.array([6, 2, 0, 3, 0, 0, 5, 7, 0])\n",
        "maximum = np.max(x[1:][np.where(x[:-1] == 0)])\n",
        "print(maximum)\n"
      ],
      "metadata": {
        "colab": {
          "base_uri": "https://localhost:8080/"
        },
        "id": "oEKaoolO2dOP",
        "outputId": "9db69717-f2e8-4c86-945d-4f246ec4433f"
      },
      "execution_count": null,
      "outputs": [
        {
          "output_type": "stream",
          "name": "stdout",
          "text": [
            "5\n"
          ]
        }
      ]
    },
    {
      "cell_type": "markdown",
      "source": [
        "####8. Пусть заданы два массива x = np.ones(10) и i = np.array([0, 1, 2, 3, 5, 5, 5, 8]). Прибавьте единицу к тем элементам массива x, индексы которых указаны в массиве i. В случае, если некоторый индекс встретился в массиве i несколько раз, прибавьте к соответствующему элементу массива x число вхождений данного индекса в массив i."
      ],
      "metadata": {
        "id": "aYwuAwRy3A5p"
      }
    },
    {
      "cell_type": "code",
      "source": [
        "import numpy as np\n",
        "x = np.ones(10)\n",
        "i = np.array([0, 1, 2, 3, 5, 5, 5, 8])\n",
        "x += np.bincount(i, minlength = len(x))\n",
        "print(x)"
      ],
      "metadata": {
        "colab": {
          "base_uri": "https://localhost:8080/"
        },
        "id": "vWWcuRhv3KAM",
        "outputId": "6a2d5b78-8fcd-431a-b2d6-6a0ad94e3904"
      },
      "execution_count": null,
      "outputs": [
        {
          "output_type": "stream",
          "name": "stdout",
          "text": [
            "[2. 2. 2. 2. 1. 4. 1. 1. 2. 1.]\n"
          ]
        }
      ]
    }
  ]
}
